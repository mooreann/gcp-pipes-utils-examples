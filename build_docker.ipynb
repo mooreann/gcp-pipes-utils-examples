{
 "cells": [
  {
   "cell_type": "markdown",
   "metadata": {},
   "source": [
    "build dockerfile\n",
    "run container image locally and hop into it to check tooling\n",
    "tag container image and push into GCP container registery\n",
    "I've already done this so if running form our GCP project's don't worry about running\n",
    "\n",
    "originally was trying to do with Alpine linux but was getting a path error after image deployed to instance, so switched in centos7 just to get example working"
   ]
  },
  {
   "cell_type": "code",
   "execution_count": null,
   "metadata": {},
   "outputs": [],
   "source": [
    "%% bash\n",
    "mkdir -p ~/code/dockers/shardvcfset\n",
    "\n",
    "gsutil cp gs://nihnialng-ppmi-wgs/test/shardvcfset.Dockerfile ~/code/dockers/shardvcfset/Dockerfile"
   ]
  },
  {
   "cell_type": "code",
   "execution_count": null,
   "metadata": {},
   "outputs": [],
   "source": [
    "VERSION=2018-1\n",
    "IMAGENAME=shardvcfset\n",
    "GCPPROJECT=nih-nia-lng-cbg\n",
    "docker build -t ${IMAGENAME}:${VERSION} ~/code/dockers/shardvcfset\n",
    "\n",
    "IMAGEID=$(docker images | awk -v VERSION=${VERSION} -v IMAGENAME=${IMAGENAME} \\\n",
    "'$1 == IMAGENAME && $2 == VERSION {print $3}')\n",
    "#test run cbg docker\n",
    "docker run -it ${IMAGENAME}:${VERSION}\n",
    "\n",
    "#register cbg docker with GCR\n",
    "docker tag ${IMAGEID} us.gcr.io/${GCPPROJECT}/${IMAGENAME}:${VERSION}\n",
    "gcloud docker -- push us.gcr.io/${GCPPROJECT}/${IMAGENAME}:${VERSION}    "
   ]
  }
 ],
 "metadata": {
  "kernelspec": {
   "display_name": "Python 3",
   "language": "python",
   "name": "python3"
  },
  "language_info": {
   "codemirror_mode": {
    "name": "ipython",
    "version": 3
   },
   "file_extension": ".py",
   "mimetype": "text/x-python",
   "name": "python",
   "nbconvert_exporter": "python",
   "pygments_lexer": "ipython3",
   "version": "3.5.5"
  }
 },
 "nbformat": 4,
 "nbformat_minor": 2
}
